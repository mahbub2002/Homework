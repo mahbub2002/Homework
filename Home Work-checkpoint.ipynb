{
 "cells": [
  {
   "cell_type": "markdown",
   "id": "090c1d6e",
   "metadata": {},
   "source": [
    "# Arithmatic operator"
   ]
  },
  {
   "cell_type": "code",
   "execution_count": 1,
   "id": "8ed912fb",
   "metadata": {},
   "outputs": [
    {
     "name": "stdout",
     "output_type": "stream",
     "text": [
      "4\n",
      "2\n",
      "30\n",
      "3\n",
      "5.0\n",
      "2\n",
      "16\n"
     ]
    }
   ],
   "source": [
    "#addition\n",
    "a=(2+2)\n",
    "print(a)\n",
    "\n",
    "#substraction\n",
    "b=(5-3) \n",
    "print(b)\n",
    "\n",
    "#multiplication\n",
    "c=(6*5)\n",
    "print(c)\n",
    "\n",
    "#floor division\n",
    "d= (10//3)\n",
    "print(d)\n",
    "\n",
    "#division\n",
    "e=(10/2)\n",
    "print(e)\n",
    "\n",
    "#reminder\n",
    "f=(10%4)\n",
    "print(f)\n",
    "\n",
    "#power\n",
    "g=(2**4)\n",
    "print(g)"
   ]
  },
  {
   "cell_type": "markdown",
   "id": "99e2e499",
   "metadata": {},
   "source": [
    "# Comparison operator"
   ]
  },
  {
   "cell_type": "code",
   "execution_count": 2,
   "id": "9acca01d",
   "metadata": {},
   "outputs": [],
   "source": [
    "a=4\n",
    "b=3"
   ]
  },
  {
   "cell_type": "code",
   "execution_count": 3,
   "id": "12243b4c",
   "metadata": {},
   "outputs": [
    {
     "data": {
      "text/plain": [
       "True"
      ]
     },
     "execution_count": 3,
     "metadata": {},
     "output_type": "execute_result"
    }
   ],
   "source": [
    "a>b"
   ]
  },
  {
   "cell_type": "code",
   "execution_count": 4,
   "id": "50a6000b",
   "metadata": {},
   "outputs": [
    {
     "data": {
      "text/plain": [
       "False"
      ]
     },
     "execution_count": 4,
     "metadata": {},
     "output_type": "execute_result"
    }
   ],
   "source": [
    "a<b"
   ]
  },
  {
   "cell_type": "code",
   "execution_count": 5,
   "id": "ae15ac64",
   "metadata": {},
   "outputs": [
    {
     "data": {
      "text/plain": [
       "False"
      ]
     },
     "execution_count": 5,
     "metadata": {},
     "output_type": "execute_result"
    }
   ],
   "source": [
    "a==b"
   ]
  },
  {
   "cell_type": "code",
   "execution_count": 6,
   "id": "3cf3f389",
   "metadata": {},
   "outputs": [
    {
     "data": {
      "text/plain": [
       "True"
      ]
     },
     "execution_count": 6,
     "metadata": {},
     "output_type": "execute_result"
    }
   ],
   "source": [
    "a!=b"
   ]
  },
  {
   "cell_type": "code",
   "execution_count": 7,
   "id": "9d98a592",
   "metadata": {},
   "outputs": [
    {
     "data": {
      "text/plain": [
       "True"
      ]
     },
     "execution_count": 7,
     "metadata": {},
     "output_type": "execute_result"
    }
   ],
   "source": [
    "a>=b"
   ]
  },
  {
   "cell_type": "code",
   "execution_count": 8,
   "id": "4cb297f0",
   "metadata": {},
   "outputs": [
    {
     "data": {
      "text/plain": [
       "False"
      ]
     },
     "execution_count": 8,
     "metadata": {},
     "output_type": "execute_result"
    }
   ],
   "source": [
    "a<=b"
   ]
  }
 ],
 "metadata": {
  "kernelspec": {
   "display_name": "Python 3 (ipykernel)",
   "language": "python",
   "name": "python3"
  },
  "language_info": {
   "codemirror_mode": {
    "name": "ipython",
    "version": 3
   },
   "file_extension": ".py",
   "mimetype": "text/x-python",
   "name": "python",
   "nbconvert_exporter": "python",
   "pygments_lexer": "ipython3",
   "version": "3.11.5"
  }
 },
 "nbformat": 4,
 "nbformat_minor": 5
}
